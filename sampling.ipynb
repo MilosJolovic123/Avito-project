{
 "cells": [
  {
   "cell_type": "code",
   "execution_count": 2,
   "metadata": {},
   "outputs": [
    {
     "name": "stdout",
     "output_type": "stream",
     "text": [
      "Sampled DataFrame Shape: (39958, 13)\n"
     ]
    }
   ],
   "source": [
    "import os\n",
    "import pandas as pd\n",
    "def sample_large_csv(file_path, output_path, target_size_mb=512, sample_fraction=0.01, chunksize=100000):\n",
    "    sampled_chunks = []\n",
    "    current_size = 0\n",
    "\n",
    "    # Read the dataset in chunks\n",
    "    for chunk in pd.read_csv(file_path, chunksize=chunksize,sep='\\t'):\n",
    "        # Sample a fraction of rows from each chunk\n",
    "        sampled_chunk = chunk.sample(frac=sample_fraction, random_state=42)\n",
    "        sampled_chunks.append(sampled_chunk)\n",
    "        \n",
    "        # Calculate the current size of the sampled data\n",
    "        sampled_df = pd.concat(sampled_chunks, ignore_index=True)\n",
    "        sampled_df.to_csv(output_path, index=False)\n",
    "        current_size = os.path.getsize(output_path) / (1024 * 1024)  # Size in MB\n",
    "        \n",
    "        # Check if the current size exceeds the target size\n",
    "        if current_size > target_size_mb:\n",
    "            print(f\"Target size of {target_size_mb} MB reached.\")\n",
    "            break\n",
    "\n",
    "    # Save the final sampled DataFrame to a CSV file\n",
    "    sampled_df.to_csv(output_path, index=False)\n",
    "    return sampled_df\n",
    "\n",
    "# Path to your large dataset (replace 'large_dataset.csv' with your file path)\n",
    "file_path = 'avito_train.tsv'\n",
    "\n",
    "# Path to save the sampled dataset\n",
    "output_path = 'avito.csv'\n",
    "\n",
    "# Sample the dataset and save it to a new file\n",
    "sampled_df = sample_large_csv(file_path, output_path, target_size_mb=512, sample_fraction=0.01, chunksize=100000)\n",
    "\n",
    "# Display the shape of the sampled DataFrame\n",
    "print(f\"Sampled DataFrame Shape: {sampled_df.shape}\")"
   ]
  }
 ],
 "metadata": {
  "kernelspec": {
   "display_name": "Python 3",
   "language": "python",
   "name": "python3"
  },
  "language_info": {
   "codemirror_mode": {
    "name": "ipython",
    "version": 3
   },
   "file_extension": ".py",
   "mimetype": "text/x-python",
   "name": "python",
   "nbconvert_exporter": "python",
   "pygments_lexer": "ipython3",
   "version": "3.11.7"
  }
 },
 "nbformat": 4,
 "nbformat_minor": 2
}
